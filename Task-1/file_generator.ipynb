{
 "cells": [
  {
   "cell_type": "code",
   "execution_count": 1,
   "metadata": {},
   "outputs": [],
   "source": [
    "import os\n",
    "import string\n",
    "import random\n",
    "import hashlib"
   ]
  },
  {
   "cell_type": "markdown",
   "metadata": {},
   "source": [
    "User Input (and additional input for deliverable)"
   ]
  },
  {
   "cell_type": "code",
   "execution_count": 2,
   "metadata": {},
   "outputs": [],
   "source": [
    "# Taking user input\n",
    "# nFiles = int(input(\"Enter the number of files: \"))\n",
    "# nBytes = int(input(\"Enter the size of the files in kiloBytes: \"))\n",
    "\n",
    "# Input for deliverable\n",
    "nFiles = 10\n",
    "nBytes = 1024"
   ]
  },
  {
   "cell_type": "markdown",
   "metadata": {},
   "source": [
    "Generating files with random names of 5 characters and filling them with random bytes"
   ]
  },
  {
   "cell_type": "code",
   "execution_count": 3,
   "metadata": {},
   "outputs": [],
   "source": [
    "for i in range(0, nFiles):\n",
    "    # File names with Uppercase Characters, Lowercase Characters, and Digits\n",
    "    fileName = ''.join(random.choice(string.ascii_uppercase + string.ascii_lowercase + string.digits) for _ in range(5))\n",
    "    \n",
    "    with open(fileName, 'wb') as fout:\n",
    "        fout.write(os.urandom(nBytes * 1024))"
   ]
  },
  {
   "cell_type": "markdown",
   "metadata": {},
   "source": [
    "Reading the files in current directory, conditions for reading can be altered according to need"
   ]
  },
  {
   "cell_type": "code",
   "execution_count": 4,
   "metadata": {},
   "outputs": [],
   "source": [
    "file_list = []\n",
    "files = os.listdir()\n",
    "\n",
    "for file in files:\n",
    "    if len(file) == 5:\n",
    "        file_list.append(file)"
   ]
  },
  {
   "cell_type": "markdown",
   "metadata": {},
   "source": [
    "Printing filename and its MD5 checksum"
   ]
  },
  {
   "cell_type": "code",
   "execution_count": 7,
   "metadata": {},
   "outputs": [
    {
     "ename": "SyntaxError",
     "evalue": "invalid syntax (<ipython-input-7-8834edb7d127>, line 7)",
     "output_type": "error",
     "traceback": [
      "\u001b[1;36m  File \u001b[1;32m\"<ipython-input-7-8834edb7d127>\"\u001b[1;36m, line \u001b[1;32m7\u001b[0m\n\u001b[1;33m    while chunk := f.read(8192):\u001b[0m\n\u001b[1;37m                 ^\u001b[0m\n\u001b[1;31mSyntaxError\u001b[0m\u001b[1;31m:\u001b[0m invalid syntax\n"
     ]
    }
   ],
   "source": [
    "print(\"Filename\\t MD5 Checksum\")\n",
    "\n",
    "for file in file_list:\n",
    "    with open(file, 'rb') as f:\n",
    "        file_hash = hashlib.md5()\n",
    "        # Reading file in chunks to account for variable file sizes as input can be large\n",
    "        while chunk := f.read(8192):\n",
    "                file_hash.update(chunk)\n",
    "        print(file, \"\\t\\t\", file_hash.hexdigest())"
   ]
  },
  {
   "cell_type": "code",
   "execution_count": null,
   "metadata": {},
   "outputs": [],
   "source": []
  },
  {
   "cell_type": "code",
   "execution_count": null,
   "metadata": {},
   "outputs": [],
   "source": []
  }
 ],
 "metadata": {
  "kernelspec": {
   "display_name": "Python 3",
   "language": "python",
   "name": "python3"
  },
  "language_info": {
   "codemirror_mode": {
    "name": "ipython",
    "version": 3
   },
   "file_extension": ".py",
   "mimetype": "text/x-python",
   "name": "python",
   "nbconvert_exporter": "python",
   "pygments_lexer": "ipython3",
   "version": "3.7.7"
  }
 },
 "nbformat": 4,
 "nbformat_minor": 4
}
